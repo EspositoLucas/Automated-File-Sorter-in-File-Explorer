{
 "cells": [
  {
   "cell_type": "code",
   "execution_count": 20,
   "metadata": {},
   "outputs": [],
   "source": [
    "import os,shutil"
   ]
  },
  {
   "cell_type": "code",
   "execution_count": 19,
   "metadata": {},
   "outputs": [],
   "source": [
    "path= r\"C:/Users/esposito/workspace/Datos/Jupyter/Automate File Sorter/Example/\""
   ]
  },
  {
   "cell_type": "code",
   "execution_count": 13,
   "metadata": {},
   "outputs": [],
   "source": [
    "file_name = os.listdir(path)"
   ]
  },
  {
   "cell_type": "code",
   "execution_count": 22,
   "metadata": {},
   "outputs": [],
   "source": [
    "folder_names = ['xls files','pdf files','image files','txt files']\n",
    "\n",
    "for loop in range(0,4):\n",
    "    if not os.path.exists(path + folder_names[loop]): \n",
    "    #print(path + folder_names[loop]) \n",
    "        os.makedirs(path + folder_names[loop])\n",
    "    \n",
    "for file in file_name:\n",
    "    if \".xls\" in file and not os.path.exists(path + \"xls files/\" + file): \n",
    "        shutil.move(path + file, path + \"xls files/\" + file)\n",
    "    elif \".pdf\" in file and not os.path.exists(path + \"pdf files/\" + file): \n",
    "        shutil.move(path + file, path + \"pdf files/\" + file)\n",
    "    elif \".png\" in file and not os.path.exists(path + \"image files/\" + file): \n",
    "        shutil.move(path + file, path + \"image files/\" + file)\n",
    "    elif \".txt\" in file and not os.path.exists(path + \"txt files/\" + file): \n",
    "        shutil.move(path + file, path + \"txt files/\" + file)"
   ]
  }
 ],
 "metadata": {
  "kernelspec": {
   "display_name": "Python 3",
   "language": "python",
   "name": "python3"
  },
  "language_info": {
   "codemirror_mode": {
    "name": "ipython",
    "version": 3
   },
   "file_extension": ".py",
   "mimetype": "text/x-python",
   "name": "python",
   "nbconvert_exporter": "python",
   "pygments_lexer": "ipython3",
   "version": "3.11.1"
  },
  "orig_nbformat": 4
 },
 "nbformat": 4,
 "nbformat_minor": 2
}
